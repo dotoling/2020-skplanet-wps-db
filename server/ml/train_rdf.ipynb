{
 "cells": [
  {
   "cell_type": "code",
   "execution_count": 1,
   "metadata": {},
   "outputs": [],
   "source": [
    "import numpy as np\n",
    "import pandas as pd\n",
    "from sklearn.preprocessing import LabelEncoder\n",
    "\n",
    "df_all = pd.read_csv('./data/train_data.csv')\n",
    "\n",
    "#rp_encoder = LabelEncoder()\n",
    "#rp_encoder.classes_ = np.load('./data/classes.npy', allow_pickle=True)\n",
    "\n",
    "#bssid_encoder = LabelEncoder()\n",
    "#bssid_encoder.classes_ = np.load('./data/features.npy', allow_pickle=True)"
   ]
  },
  {
   "cell_type": "code",
   "execution_count": 2,
   "metadata": {},
   "outputs": [
    {
     "output_type": "stream",
     "name": "stdout",
     "text": [
      "TRAIN ACC FOLD #1 : 1.0\n",
      "TEST ACC FOLD #1 : 0.9772727272727273\n",
      "[0 0 0 0 0 1 1 1 1 1 1 1 1 1 1 1 1 1 1 1 2 2 2 2 2 3 3 3 3 3 3 3 3 3 3 4 4\n",
      " 4 4 5 5 5 5 5]\n",
      "[0 0 0 0 0 1 1 1 1 1 1 1 1 1 1 1 1 1 1 1 2 2 2 2 2 3 2 3 3 3 3 3 3 3 3 4 4\n",
      " 4 4 5 5 5 5 5]\n",
      "\n",
      "TRAIN ACC FOLD #2 : 1.0\n",
      "TEST ACC FOLD #2 : 1.0\n",
      "[0 0 0 0 0 0 0 0 0 0 0 1 1 1 1 1 1 1 2 2 2 2 2 2 2 3 3 3 3 3 3 3 4 4 4 4 4\n",
      " 4 5 5 5 5 5 5]\n",
      "[0 0 0 0 0 0 0 0 0 0 0 1 1 1 1 1 1 1 2 2 2 2 2 2 2 3 3 3 3 3 3 3 4 4 4 4 4\n",
      " 4 5 5 5 5 5 5]\n",
      "\n",
      "TRAIN ACC FOLD #3 : 1.0\n",
      "TEST ACC FOLD #3 : 1.0\n",
      "[0 0 0 0 0 0 1 1 1 1 1 1 1 1 1 1 2 2 2 2 2 2 2 2 3 3 3 3 3 3 3 4 4 4 5 5 5\n",
      " 5 5 5 5 5 5 5]\n",
      "[0 0 0 0 0 0 1 1 1 1 1 1 1 1 1 1 2 2 2 2 2 2 2 2 3 3 3 3 3 3 3 4 4 4 5 5 5\n",
      " 5 5 5 5 5 5 5]\n",
      "\n",
      "TRAIN ACC FOLD #4 : 1.0\n",
      "TEST ACC FOLD #4 : 0.9772727272727273\n",
      "[0 0 0 0 0 0 0 1 1 1 1 2 2 2 2 2 2 2 2 3 3 3 3 3 3 3 3 3 3 3 3 3 4 4 4 4 4\n",
      " 5 5 5 5 5 5 5]\n",
      "[0 0 0 0 0 0 0 1 1 1 1 2 2 2 3 2 2 2 2 3 3 3 3 3 3 3 3 3 3 3 3 3 4 4 4 4 4\n",
      " 5 5 5 5 5 5 5]\n",
      "\n",
      "TRAIN ACC FOLD #5 : 1.0\n",
      "TEST ACC FOLD #5 : 0.9534883720930233\n",
      "[0 0 0 0 0 0 0 0 1 1 1 1 1 1 1 1 2 2 2 2 2 2 2 2 2 2 2 2 2 3 3 3 3 4 4 4 4\n",
      " 4 4 4 5 5 5]\n",
      "[0 0 0 0 0 0 0 0 1 1 1 1 1 1 1 1 2 2 2 2 2 2 3 2 2 2 2 2 2 3 3 2 3 4 4 4 4\n",
      " 4 4 4 5 5 5]\n",
      "\n"
     ]
    }
   ],
   "source": [
    "from sklearn.model_selection import KFold\n",
    "from sklearn.ensemble import RandomForestClassifier\n",
    "from sklearn.metrics import accuracy_score\n",
    "\n",
    "X = df_all.iloc[:,:-1].values\n",
    "y = df_all.iloc[:,-1].values\n",
    "\n",
    "kf = KFold(n_splits=5, shuffle=True, random_state=12321)\n",
    "\n",
    "fold_n = 1\n",
    "for train_idx, test_idx in kf.split(X):\n",
    "    X_train, X_test = X[train_idx], X[test_idx]\n",
    "    y_train, y_test = y[train_idx], y[test_idx]\n",
    "    \n",
    "    clf = RandomForestClassifier(n_estimators=100, n_jobs=-1, random_state=42)\n",
    "    clf.fit(X_train, y_train)\n",
    "\n",
    "    pred_train = clf.predict(X_train)\n",
    "    print('TRAIN ACC FOLD #'+str(fold_n)+' : ', end='')\n",
    "    print(accuracy_score(y_train, pred_train))\n",
    "    \n",
    "    pred_test = clf.predict(X_test)\n",
    "    print('TEST ACC FOLD #'+str(fold_n)+' : ', end='')\n",
    "    print(accuracy_score(y_test, pred_test))\n",
    "    print(y_test)\n",
    "    print(pred_test)\n",
    "    print()\n",
    "\n",
    "    fold_n += 1\n"
   ]
  },
  {
   "cell_type": "code",
   "execution_count": 3,
   "metadata": {},
   "outputs": [
    {
     "output_type": "execute_result",
     "data": {
      "text/plain": [
       "['./data/input_dataframe.plk']"
      ]
     },
     "metadata": {},
     "execution_count": 3
    }
   ],
   "source": [
    "import joblib\n",
    "\n",
    "clf = RandomForestClassifier(n_estimators=100, n_jobs=-1, random_state=42)\n",
    "clf.fit(X, y)\n",
    "\n",
    "joblib.dump(clf, './data/model_randomforest.plk')"
   ]
  },
  {
   "cell_type": "code",
   "execution_count": null,
   "metadata": {},
   "outputs": [],
   "source": []
  }
 ],
 "metadata": {
  "kernelspec": {
   "name": "python3",
   "display_name": "Python 3.8.5 64-bit ('skplanet-wps': conda)",
   "metadata": {
    "interpreter": {
     "hash": "971d31eb3686561c5796e54c184f57aef6128f80b9cb4f1a8e2b2d16ed85abc5"
    }
   }
  },
  "language_info": {
   "codemirror_mode": {
    "name": "ipython",
    "version": 3
   },
   "file_extension": ".py",
   "mimetype": "text/x-python",
   "name": "python",
   "nbconvert_exporter": "python",
   "pygments_lexer": "ipython3",
   "version": "3.8.5-final"
  }
 },
 "nbformat": 4,
 "nbformat_minor": 2
}