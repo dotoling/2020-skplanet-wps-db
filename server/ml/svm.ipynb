{
 "metadata": {
  "language_info": {
   "codemirror_mode": {
    "name": "ipython",
    "version": 3
   },
   "file_extension": ".py",
   "mimetype": "text/x-python",
   "name": "python",
   "nbconvert_exporter": "python",
   "pygments_lexer": "ipython3",
   "version": "3.8.5-final"
  },
  "orig_nbformat": 2,
  "kernelspec": {
   "name": "python3",
   "display_name": "Python 3.8.5 64-bit",
   "metadata": {
    "interpreter": {
     "hash": "971d31eb3686561c5796e54c184f57aef6128f80b9cb4f1a8e2b2d16ed85abc5"
    }
   }
  }
 },
 "nbformat": 4,
 "nbformat_minor": 2,
 "cells": [
  {
   "cell_type": "code",
   "execution_count": 1,
   "metadata": {},
   "outputs": [],
   "source": [
    "import numpy as np\n",
    "import pandas as pd\n",
    "\n",
    "df_all = pd.read_csv('./data/train_data.csv')"
   ]
  },
  {
   "cell_type": "code",
   "execution_count": 2,
   "metadata": {},
   "outputs": [
    {
     "output_type": "stream",
     "name": "stdout",
     "text": [
      "TRAIN ACC FOLD #1 : 1.0\n",
      "TEST ACC FOLD #1 : 1.0\n",
      "[0 0 0 0 0 1 1 1 1 1 1 1 1 1 1 1 1 1 1 1 2 2 2 2 2 3 3 3 3 3 3 3 3 3 3 4 4\n",
      " 4 4 5 5 5 5 5]\n",
      "[0 0 0 0 0 1 1 1 1 1 1 1 1 1 1 1 1 1 1 1 2 2 2 2 2 3 3 3 3 3 3 3 3 3 3 4 4\n",
      " 4 4 5 5 5 5 5]\n",
      "\n",
      "TRAIN ACC FOLD #2 : 1.0\n",
      "TEST ACC FOLD #2 : 1.0\n",
      "[0 0 0 0 0 0 0 0 0 0 0 1 1 1 1 1 1 1 2 2 2 2 2 2 2 3 3 3 3 3 3 3 4 4 4 4 4\n",
      " 4 5 5 5 5 5 5]\n",
      "[0 0 0 0 0 0 0 0 0 0 0 1 1 1 1 1 1 1 2 2 2 2 2 2 2 3 3 3 3 3 3 3 4 4 4 4 4\n",
      " 4 5 5 5 5 5 5]\n",
      "\n",
      "TRAIN ACC FOLD #3 : 1.0\n",
      "TEST ACC FOLD #3 : 1.0\n",
      "[0 0 0 0 0 0 1 1 1 1 1 1 1 1 1 1 2 2 2 2 2 2 2 2 3 3 3 3 3 3 3 4 4 4 5 5 5\n",
      " 5 5 5 5 5 5 5]\n",
      "[0 0 0 0 0 0 1 1 1 1 1 1 1 1 1 1 2 2 2 2 2 2 2 2 3 3 3 3 3 3 3 4 4 4 5 5 5\n",
      " 5 5 5 5 5 5 5]\n",
      "\n",
      "TRAIN ACC FOLD #4 : 1.0\n",
      "TEST ACC FOLD #4 : 0.9772727272727273\n",
      "[0 0 0 0 0 0 0 1 1 1 1 2 2 2 2 2 2 2 2 3 3 3 3 3 3 3 3 3 3 3 3 3 4 4 4 4 4\n",
      " 5 5 5 5 5 5 5]\n",
      "[0 0 0 0 0 0 0 1 1 1 1 2 2 2 3 2 2 2 2 3 3 3 3 3 3 3 3 3 3 3 3 3 4 4 4 4 4\n",
      " 5 5 5 5 5 5 5]\n",
      "\n",
      "TRAIN ACC FOLD #5 : 1.0\n",
      "TEST ACC FOLD #5 : 0.9767441860465116\n",
      "[0 0 0 0 0 0 0 0 1 1 1 1 1 1 1 1 2 2 2 2 2 2 2 2 2 2 2 2 2 3 3 3 3 4 4 4 4\n",
      " 4 4 4 5 5 5]\n",
      "[0 0 0 0 0 0 0 0 1 1 1 1 1 1 1 1 2 2 2 2 2 2 2 2 2 2 2 2 2 3 3 2 3 4 4 4 4\n",
      " 4 4 4 5 5 5]\n",
      "\n"
     ]
    }
   ],
   "source": [
    "from sklearn.model_selection import KFold\n",
    "from sklearn import svm\n",
    "from sklearn.metrics import accuracy_score\n",
    "\n",
    "X = df_all.iloc[:,:-1].values\n",
    "y = df_all.iloc[:,-1].values\n",
    "\n",
    "kf = KFold(n_splits=5, shuffle=True, random_state=12321)\n",
    "\n",
    "fold_n = 1\n",
    "for train_idx, test_idx in kf.split(X):\n",
    "    X_train, X_test = X[train_idx], X[test_idx]\n",
    "    y_train, y_test = y[train_idx], y[test_idx]\n",
    "    \n",
    "    clf = svm.SVC(kernel = 'rbf')\n",
    "    clf.fit(X_train, y_train)\n",
    "\n",
    "    pred_train = clf.predict(X_train)\n",
    "    print('TRAIN ACC FOLD #'+str(fold_n)+' : ', end='')\n",
    "    print(accuracy_score(y_train, pred_train))\n",
    "    \n",
    "    pred_test = clf.predict(X_test)\n",
    "    print('TEST ACC FOLD #'+str(fold_n)+' : ', end='')\n",
    "    print(accuracy_score(y_test, pred_test))\n",
    "    print(y_test)\n",
    "    print(pred_test, end='\\n\\n')\n",
    "\n",
    "    fold_n += 1\n"
   ]
  },
  {
   "cell_type": "code",
   "execution_count": 3,
   "metadata": {},
   "outputs": [
    {
     "output_type": "execute_result",
     "data": {
      "text/plain": [
       "['./data/model_svm.plk']"
      ]
     },
     "metadata": {},
     "execution_count": 3
    }
   ],
   "source": [
    "import joblib\n",
    "\n",
    "clf = svm.SVC(kernel = 'rbf', probability=True)\n",
    "clf.fit(X, y)\n",
    "\n",
    "joblib.dump(clf, './data/model_svm.plk')"
   ]
  },
  {
   "cell_type": "code",
   "execution_count": null,
   "metadata": {},
   "outputs": [],
   "source": []
  }
 ]
}