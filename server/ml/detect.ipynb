{
 "metadata": {
  "language_info": {
   "codemirror_mode": {
    "name": "ipython",
    "version": 3
   },
   "file_extension": ".py",
   "mimetype": "text/x-python",
   "name": "python",
   "nbconvert_exporter": "python",
   "pygments_lexer": "ipython3",
   "version": "3.8.5-final"
  },
  "orig_nbformat": 2,
  "kernelspec": {
   "name": "python3",
   "display_name": "Python 3.8.5 64-bit ('skplanet-wps': conda)",
   "metadata": {
    "interpreter": {
     "hash": "971d31eb3686561c5796e54c184f57aef6128f80b9cb4f1a8e2b2d16ed85abc5"
    }
   }
  }
 },
 "nbformat": 4,
 "nbformat_minor": 2,
 "cells": [
  {
   "cell_type": "code",
   "execution_count": 23,
   "metadata": {},
   "outputs": [],
   "source": [
    "from pathlib import Path\n",
    "import numpy as np\n",
    "import pandas as pd\n",
    "import matplotlib.pyplot as plt\n",
    "import joblib\n",
    "from sklearn.preprocessing import LabelEncoder\n",
    "from collections import defaultdict\n",
    "\n",
    "model_rdf = joblib.load('./data/model_rdf.plk')\n",
    "model_svm = joblib.load('./data/model_svm.plk')\n",
    "\n",
    "rp_encoder = LabelEncoder()\n",
    "rp_encoder.classes_ = np.load('./data/classes.npy', allow_pickle=True)\n",
    "\n",
    "bssid_encoder = LabelEncoder()\n",
    "bssid_encoder.classes_ = np.load('./data/features.npy', allow_pickle=True)"
   ]
  },
  {
   "cell_type": "code",
   "execution_count": 28,
   "metadata": {
    "tags": []
   },
   "outputs": [
    {
     "output_type": "stream",
     "name": "stdout",
     "text": [
      "RDF : ZARA\n[2층 입구] : 0.00\n[LLOYD] : 0.00\n[ZARA] : 0.96\n[ZIOZIA] : 0.03\n[버스정류장] : 0.00\n[서점] : 0.01\n\nSVM : ZARA\n[2층 입구] : 0.00\n[LLOYD] : 0.00\n[ZARA] : 0.96\n[ZIOZIA] : 0.03\n[버스정류장] : 0.00\n[서점] : 0.01\n\n\n"
     ]
    }
   ],
   "source": [
    "# detection용 유저 데이터를 잠시 학습용 데이터에서 가져옴.\n",
    "# 실제 유저 데이터를 가져오면 bssid를 rp_encoder에서 transform 해야됨\n",
    "# 데이터는 bssid(encoded)) : rssi 쌍의 dictionary -> dataframe으로 변환\n",
    "df_signal = pd.read_csv(Path('./data/train_data.csv'), header=None)\n",
    "dict_user = df_signal.sample().to_dict('records')[0]\n",
    "\n",
    "# 유저 데이터 중 모델에 없는 bssid를 제외한 detection용 데이터\n",
    "# 실제 데이터 쓸때는 bssid_num이 아닌 string bssid를 사용\n",
    "dict_detection = defaultdict.fromkeys(bssid_encoder.transform(bssid_encoder.classes_), 0)\n",
    "for bssid_num, rssi in dict_user.items():\n",
    "    if bssid_num in dict_detection:\n",
    "        dict_detection[bssid_num] = rssi\n",
    "\n",
    "# string인 bssid를 숫자로 mapping\n",
    "df_detection = pd.DataFrame().from_dict([dict_detection])\n",
    "\n",
    "result_rdf = model_rdf.predict(df_detection)\n",
    "result_svm = model_svm.predict(df_detection)\n",
    "proba_rdf = model_rdf.predict_proba(df_detection)\n",
    "proba_svm = model_svm.predict_proba(df_detection)\n",
    "print(proba_rdf)\n",
    "\n",
    "print(f'RDF : {rp_encoder.inverse_transform([result_rdf[0]])[0]}')\n",
    "for rp in rp_encoder.classes_:\n",
    "    print(f'[{rp}] : {proba_rdf[0][rp_encoder.transform([rp])[0]]:.2f}')\n",
    "\n",
    "print('')\n",
    "\n",
    "print(f'SVM : {rp_encoder.inverse_transform([result_svm[0]])[0]}')\n",
    "for rp in rp_encoder.classes_:\n",
    "    print(f'[{rp:7}] : {proba_rdf[0][rp_encoder.transform([rp])[0]]:.2f}')\n",
    "    \n",
    "print('\\n')\n"
   ]
  },
  {
   "cell_type": "code",
   "execution_count": null,
   "metadata": {},
   "outputs": [],
   "source": []
  }
 ]
}