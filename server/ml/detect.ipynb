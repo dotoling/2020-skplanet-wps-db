{
 "metadata": {
  "language_info": {
   "codemirror_mode": {
    "name": "ipython",
    "version": 3
   },
   "file_extension": ".py",
   "mimetype": "text/x-python",
   "name": "python",
   "nbconvert_exporter": "python",
   "pygments_lexer": "ipython3",
   "version": "3.8.5-final"
  },
  "orig_nbformat": 2,
  "kernelspec": {
   "name": "python3",
   "display_name": "Python 3.8.5 64-bit ('skplanet-wps': conda)",
   "metadata": {
    "interpreter": {
     "hash": "971d31eb3686561c5796e54c184f57aef6128f80b9cb4f1a8e2b2d16ed85abc5"
    }
   }
  }
 },
 "nbformat": 4,
 "nbformat_minor": 2,
 "cells": [
  {
   "cell_type": "code",
   "execution_count": 9,
   "metadata": {},
   "outputs": [
    {
     "output_type": "execute_result",
     "data": {
      "text/plain": [
       "array(['aisle', 'bedroom', 'kitchen', 'livingroom', 'myroom', 'room2',\n",
       "       'room3', 'studyroom'], dtype=object)"
      ]
     },
     "metadata": {},
     "execution_count": 9
    }
   ],
   "source": [
    "import numpy as np\n",
    "import pandas as pd\n",
    "import matplotlib.pyplot as plt\n",
    "import joblib\n",
    "from sklearn.preprocessing import LabelEncoder\n",
    "\n",
    "model_rdf = joblib.load('../ml_data/model_randomforest.plk')\n",
    "model_svm = joblib.load('../ml_data/model_svm.plk')\n",
    "\n",
    "rp_encoder = LabelEncoder()\n",
    "rp_encoder.classes_ = np.load('./data/classes.npy', allow_pickle=True)\n",
    "\n",
    "bssid_encoder = LabelEncoder()\n",
    "bssid_encoder.classes_ = np.load('./data/features.npy', allow_pickle=True)"
   ]
  },
  {
   "cell_type": "code",
   "execution_count": 1,
   "metadata": {
    "tags": []
   },
   "outputs": [
    {
     "output_type": "error",
     "ename": "NameError",
     "evalue": "name 'get_wifis' is not defined",
     "traceback": [
      "\u001b[1;31m---------------------------------------------------------------------------\u001b[0m",
      "\u001b[1;31mNameError\u001b[0m                                 Traceback (most recent call last)",
      "\u001b[1;32m<ipython-input-1-739505aceb9c>\u001b[0m in \u001b[0;36m<module>\u001b[1;34m\u001b[0m\n\u001b[0;32m      3\u001b[0m \u001b[1;33m\u001b[0m\u001b[0m\n\u001b[0;32m      4\u001b[0m \u001b[1;33m\u001b[0m\u001b[0m\n\u001b[1;32m----> 5\u001b[1;33m \u001b[0mscan_wifi\u001b[0m \u001b[1;33m=\u001b[0m \u001b[0mget_wifis\u001b[0m\u001b[1;33m(\u001b[0m\u001b[1;33m)\u001b[0m\u001b[1;33m\u001b[0m\u001b[1;33m\u001b[0m\u001b[0m\n\u001b[0m\u001b[0;32m      6\u001b[0m \u001b[1;33m\u001b[0m\u001b[0m\n\u001b[0;32m      7\u001b[0m \u001b[0mwifi_dict\u001b[0m \u001b[1;33m=\u001b[0m \u001b[0mdefaultdict\u001b[0m\u001b[1;33m.\u001b[0m\u001b[0mfromkeys\u001b[0m\u001b[1;33m(\u001b[0m\u001b[0mwifi_df\u001b[0m\u001b[1;33m.\u001b[0m\u001b[0mcolumns\u001b[0m\u001b[1;33m,\u001b[0m \u001b[1;36m0\u001b[0m\u001b[1;33m)\u001b[0m\u001b[1;33m\u001b[0m\u001b[1;33m\u001b[0m\u001b[0m\n",
      "\u001b[1;31mNameError\u001b[0m: name 'get_wifis' is not defined"
     ]
    }
   ],
   "source": [
    "sys.path.append('../collector/')\n",
    "from collections import defaultdict\n",
    "\n",
    "\n",
    "\n",
    "scan_wifi = get_wifis()\n",
    "\n",
    "wifi_dict = defaultdict.fromkeys(wifi_df.columns, 0)\n",
    "for wifi in scan_wifi:\n",
    "    if wifi['bssid'] in wifi_dict:\n",
    "        wifi_dict[wifi['bssid']] = int(wifi['signal'][:-1])\n",
    "\n",
    "wifi_df = wifi_df.append(pd.DataFrame.from_dict([wifi_dict]))\n",
    "\n",
    "result_rdf = model_rdf.predict(wifi_df.tail(1))\n",
    "result_svm = model_svm.predict(wifi_df.tail(1))\n",
    "proba_rdf = model_rdf.predict_proba(wifi_df.tail(1))\n",
    "proba_svm = model_svm.predict_proba(wifi_df.tail(1))\n",
    "\n",
    "print(f'RDF : {rp_name[result_rdf[0]]}')\n",
    "for i in range(rp_cnt):\n",
    "    print(f'[{rp_name[i]}] : {proba_rdf[0][i]:.2f}')\n",
    "\n",
    "print('')\n",
    "\n",
    "print(f'SVM : {rp_name[result_svm[0]]}')\n",
    "for i in range(rp_cnt):\n",
    "    print(f'[{rp_name[i]}] : {proba_svm[0][i]:.2f}')\n",
    "    \n",
    "print('\\n')\n"
   ]
  },
  {
   "cell_type": "code",
   "execution_count": null,
   "metadata": {},
   "outputs": [],
   "source": []
  }
 ]
}